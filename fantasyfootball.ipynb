{
  "nbformat": 4,
  "nbformat_minor": 0,
  "metadata": {
    "colab": {
      "provenance": [],
      "toc_visible": true,
      "authorship_tag": "ABX9TyOWqclPD1YBKQublPIRJaTu",
      "include_colab_link": true
    },
    "kernelspec": {
      "name": "python3",
      "display_name": "Python 3"
    },
    "language_info": {
      "name": "python"
    }
  },
  "cells": [
    {
      "cell_type": "markdown",
      "metadata": {
        "id": "view-in-github",
        "colab_type": "text"
      },
      "source": [
        "<a href=\"https://colab.research.google.com/github/jamesjaixp/fantasyfootball/blob/main/fantasyfootball.ipynb\" target=\"_parent\"><img src=\"https://colab.research.google.com/assets/colab-badge.svg\" alt=\"Open In Colab\"/></a>"
      ]
    },
    {
      "cell_type": "code",
      "execution_count": 1,
      "metadata": {
        "colab": {
          "base_uri": "https://localhost:8080/"
        },
        "id": "8ghflno-veoe",
        "outputId": "e7122ebf-90dc-4a80-df98-d49de982e078"
      },
      "outputs": [
        {
          "output_type": "stream",
          "name": "stdout",
          "text": [
            "Julio Jones has a catch rate of 0.6305732484076433\n",
            "Davante Adams has a catch rate of 0.6535433070866141\n",
            "Michael Thomas has a catch rate of 0.8054054054054054\n"
          ]
        }
      ],
      "source": [
        "#Official player stats for 2019\n",
        "\n",
        "players = [{\n",
        "   'name': 'Julio Jones',\n",
        "   'catches': 99,\n",
        "   'targets': 157\n",
        "   },\n",
        "   {\n",
        "   'name': 'Davante Adams',\n",
        "   'catches': 83,\n",
        "   'targets': 127\n",
        "   },\n",
        "   {\n",
        "   'name': 'Michael Thomas',\n",
        "   'catches': 149,\n",
        "   'targets': 185\n",
        "   },\n",
        "]\n",
        "\n",
        "\n",
        "for player in players:\n",
        "   name = player[\"name\"]\n",
        "   catches = player[\"catches\"]\n",
        "   targets = player[\"targets\"]\n",
        "   catch_rate = catches/targets\n",
        "   print(name + ' has a catch rate of ' + str(catch_rate))"
      ]
    }
  ]
}